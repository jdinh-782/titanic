{
 "cells": [
  {
   "cell_type": "code",
   "execution_count": 241,
   "outputs": [],
   "source": [
    "import numpy as np\n",
    "import pandas as pd\n",
    "import os\n",
    "\n",
    "# initialize datasets\n",
    "gender_submission = None\n",
    "test = None\n",
    "train = None\n",
    "\n",
    "# find file paths for and read in datasets\n",
    "for subdir, dirs, files in os.walk(\"titanic\\data\"):\n",
    "    for file in files:\n",
    "        # print(os.path.join(subdir, file))\n",
    "\n",
    "        if 'gender_submission' in file:\n",
    "            gender_submission = pd.read_csv(os.path.join(subdir, file))\n",
    "\n",
    "        if 'test' in file:\n",
    "            test = pd.read_csv(os.path.join(subdir, file))\n",
    "\n",
    "        if 'train' in file:\n",
    "            train = pd.read_csv(os.path.join(subdir, file))"
   ],
   "metadata": {
    "collapsed": false,
    "pycharm": {
     "name": "#%%\n"
    }
   }
  },
  {
   "cell_type": "code",
   "execution_count": 242,
   "outputs": [],
   "source": [
    "# analyze and clean data\n",
    "def missingdata(data):\n",
    "    total = data.isnull().sum().sort_values(ascending = False)\n",
    "    percent = (data.isnull().sum()/data.isnull().count()*100).sort_values(ascending = False)\n",
    "    ms = pd.concat([total, percent], axis=1, keys=['Total', 'Percent'])\n",
    "    ms = ms[ms[\"Percent\"] > 0]\n",
    "    f,ax = plt.subplots(figsize=(8,6))\n",
    "    plt.xticks(rotation='90')\n",
    "    fig = seaborn.barplot(ms.index, ms[\"Percent\"],color=\"green\",alpha=0.8)\n",
    "    plt.xlabel('Features', fontsize=15)\n",
    "    plt.ylabel('Percent of missing values', fontsize=15)\n",
    "    plt.title('Percent missing data by feature', fontsize=15)\n",
    "    return ms\n",
    "\n",
    "# missingdata(train)\n",
    "# missingdata(test)\n",
    "\n",
    "\n",
    "# now fill in missing values for both train and test data\n",
    "# test['Age'].fillna(test['Age'].mean(), inplace=True)\n",
    "train['Age'].fillna(train['Age'].median(), inplace=True)\n",
    "test['Age'].fillna(test['Age'].median(), inplace=True)\n",
    "\n",
    "\n",
    "# from the graphs shown for the missing data, cabin features has more than 75% of missing data in both train and test data => remove the feature from both datasets\n",
    "train.drop(['Cabin'], axis=1, inplace=True)\n",
    "test.drop(['Cabin'], axis=1, inplace=True)\n",
    "\n",
    "train['Embarked'].fillna(train['Embarked'].mode()[0], inplace=True)\n",
    "test['Fare'].fillna(test['Fare'].median(), inplace=True)\n",
    "\n",
    "\n",
    "# print('check the nan value in train data')\n",
    "# print(train.isnull().sum())\n",
    "# print('___'*30)\n",
    "# print('check the nan value in test data')\n",
    "# print(test.isnull().sum())"
   ],
   "metadata": {
    "collapsed": false,
    "pycharm": {
     "name": "#%%\n"
    }
   }
  },
  {
   "cell_type": "code",
   "execution_count": 243,
   "outputs": [],
   "source": [
    "# feature engineering\n",
    "import re\n",
    "all_data = [train, test]\n",
    "\n",
    "# both train and test datasets contain Parch (parents/children), SibSp (siblings/spouses)), and the person related to => this must be the entire family size\n",
    "for dataset in all_data:\n",
    "    dataset['FamilySize'] = dataset['Parch'] + dataset['SibSp'] + 1\n",
    "\n",
    "\n",
    "# extract titles from passenger names\n",
    "def get_title(name):\n",
    "    title_search = re.search('([A-Za-z]+)\\.', name)\n",
    "\n",
    "    # if title exists, extract and return\n",
    "    if title_search:\n",
    "        return title_search.group(1)\n",
    "    return \"\"\n",
    "\n",
    "\n",
    "# create a new feature 'Title', containing titles of passenger names\n",
    "for dataset in all_data:\n",
    "    dataset['Title'] = dataset['Name'].apply(get_title)\n",
    "\n",
    "\n",
    "# group all non-common titles into one single grouping \"Rare\"\n",
    "for dataset in all_data:\n",
    "    dataset['Title'] = dataset['Title'].replace(['Lady', 'Countess','Capt', 'Col','Don', 'Dr', 'Major', 'Rev', 'Sir', 'Jonkheer', 'Dona'], 'Rare')\n",
    "    dataset['Title'] = dataset['Title'].replace('Mlle', 'Miss')\n",
    "    dataset['Title'] = dataset['Title'].replace('Ms', 'Miss')\n",
    "    dataset['Title'] = dataset['Title'].replace('Mme', 'Mrs')\n",
    "\n",
    "\n",
    "# create bin for age features\n",
    "for dataset in all_data:\n",
    "    dataset['Age_bin'] = pd.cut(dataset['Age'], bins=[0, 12, 20, 40, 120], labels=['Children', 'Teenager', 'Adult', 'Elder'])\n",
    "\n",
    "\n",
    "# create bin for fare features\n",
    "for dataset in all_data:\n",
    "    dataset['Fare_bin'] = pd.cut(dataset['Fare'], bins=[0, 7.91, 14.45, 31, 120], labels=['Low_fare', 'Median_fare', 'Average_fare', 'High_fare'])\n",
    "\n",
    "\n",
    "# drop unnecessary columns\n",
    "for dataset in all_data:\n",
    "    drop_column = ['Age', 'Fare', 'Name', 'Ticket']\n",
    "    dataset.drop(drop_column, axis=1, inplace=True)\n",
    "\n",
    "train.drop(['PassengerId'], axis=1, inplace=True)"
   ],
   "metadata": {
    "collapsed": false,
    "pycharm": {
     "name": "#%%\n"
    }
   }
  },
  {
   "cell_type": "code",
   "execution_count": 265,
   "outputs": [],
   "source": [
    "# visualization after cleaning and aggregating features\n",
    "import seaborn\n",
    "import matplotlib.pyplot as plt\n",
    "\n",
    "# X = pd.get_dummies(train, prefix=[\"Sex\",\"Title\",\"Age_type\",\"Em_type\",\"Fare_type\"], columns=[\"Sex\",\"Title\",\"Age_bin\",\"Embarked\",\"Fare_bin\"])\n",
    "# X_test = pd.get_dummies(test, prefix=[\"Sex\",\"Title\",\"Age_type\",\"Em_type\",\"Fare_type\"], columns=[\"Sex\",\"Title\",\"Age_bin\",\"Embarked\",\"Fare_bin\"])\n",
    "\n",
    "\n",
    "# # heatmap of data correlation => confusion matrix\n",
    "# seaborn.heatmap(X.corr(), annot=True, cmap='RdYlGn', linewidths=0.2)\n",
    "# fig = plt.gcf()\n",
    "# fig.set_size_inches(20, 12)\n",
    "# plt.show()\n",
    "#\n",
    "#\n",
    "# # pair plots\n",
    "# g = seaborn.pairplot(data=X, hue='Survived', palette='seismic', height=1.2, diag_kind='kde', diag_kws=dict(shade=True), plot_kws=dict(s=10))\n",
    "# g.set(xticklabels = [])\n"
   ],
   "metadata": {
    "collapsed": false,
    "pycharm": {
     "name": "#%%\n"
    }
   }
  },
  {
   "cell_type": "code",
   "execution_count": 267,
   "outputs": [
    {
     "name": "stdout",
     "output_type": "stream",
     "text": [
      "% of women who survived: 0.7420382165605095\n",
      "% of men who survived: 0.18890814558058924\n"
     ]
    }
   ],
   "source": [
    "# find rate (%) of women who survived the Titanic\n",
    "women = train.loc[train.Sex == 'female']['Survived']\n",
    "rate_women = sum(women)/len(women)\n",
    "\n",
    "print(f\"% of women who survived: {rate_women}\")\n",
    "\n",
    "\n",
    "# find rate (%) of men who survived the Titanic\n",
    "men = train.loc[train.Sex == 'male']['Survived']\n",
    "rate_men = sum(men)/len(men)\n",
    "\n",
    "print(f\"% of men who survived: {rate_men}\")"
   ],
   "metadata": {
    "collapsed": false,
    "pycharm": {
     "name": "#%%\n"
    }
   }
  },
  {
   "cell_type": "code",
   "execution_count": 253,
   "outputs": [
    {
     "name": "stdout",
     "output_type": "stream",
     "text": [
      "1 = 0.7867564534231201\n",
      "2 = 0.8013468013468014\n",
      "3 = 0.8305274971941639\n",
      "4 = 0.835016835016835\n",
      "5 = 0.8361391694725028\n",
      "6 = 0.8518518518518519\n",
      "7 = 0.8597081930415263\n",
      "8 = 0.8630751964085297\n",
      "9 = 0.8742985409652076\n",
      "10 = 0.8754208754208754\n",
      "11 = 0.8765432098765432\n",
      "12 = 0.8765432098765432\n",
      "13 = 0.8765432098765432\n",
      "14 = 0.8754208754208754\n",
      "15 = 0.8765432098765432\n",
      "16 = 0.8765432098765432\n",
      "17 = 0.8765432098765432\n",
      "18 = 0.8731762065095399\n",
      "19 = 0.8765432098765432\n",
      "20 = 0.8754208754208754\n",
      "21 = 0.8742985409652076\n",
      "22 = 0.8765432098765432\n",
      "23 = 0.8765432098765432\n",
      "24 = 0.8765432098765432\n",
      "25 = 0.8754208754208754\n"
     ]
    }
   ],
   "source": [
    "# random forests\n",
    "from sklearn.ensemble import RandomForestClassifier, RandomForestRegressor\n",
    "from sklearn.model_selection import train_test_split\n",
    "\n",
    "# TESTING WITH NO FEATURE ENGINEERING\n",
    "# Y = train['Survived']\n",
    "# features = ['Pclass', 'Sex', 'SibSp', 'Parch', 'Fare']  # submit with 'Fare' as feature\n",
    "# X = pd.get_dummies(train[features])\n",
    "# X_test = pd.get_dummies(test[features])\n",
    "\n",
    "\n",
    "# TESTING WITH FEATURE ENGINEERING\n",
    "features = ['Pclass', 'Sex', 'SibSp', 'Parch', 'FamilySize', 'Title', 'Age_bin', 'Fare_bin']\n",
    "X = pd.get_dummies(train[features])\n",
    "Y = train[\"Survived\"]\n",
    "X_test = pd.get_dummies(test[features])\n",
    "\n",
    "\n",
    "# MAKING PREDICTIONS\n",
    "predictions = []\n",
    "for k in range(1, 26):\n",
    "    model = RandomForestClassifier(n_estimators=20, max_depth=k, random_state=None)\n",
    "    model.fit(X, Y)\n",
    "    print(f\"{k} = {model.score(X, Y)}\")\n",
    "\n",
    "    predictions.append(model.predict(X_test))\n",
    "\n",
    "# print(model.get_params())"
   ],
   "metadata": {
    "collapsed": false,
    "pycharm": {
     "name": "#%%\n"
    }
   }
  },
  {
   "cell_type": "code",
   "execution_count": 226,
   "outputs": [
    {
     "name": "stdout",
     "output_type": "stream",
     "text": [
      "output successful\n"
     ]
    }
   ],
   "source": [
    "output = pd.DataFrame({'PassengerId': test.PassengerId, 'Survived': predictions[3]})\n",
    "output.to_csv('submission_RandomForests.csv', index=False)\n",
    "print('output successful')\n",
    "\n",
    "# output = pd.DataFrame({'PassengerId': test.PassengerId, 'Survived': predictions[3]})  # keep this prediction\n",
    "# output.to_csv('submission_RandomForestsFeatureEngineering.csv', index=False)\n",
    "# print('output successful')"
   ],
   "metadata": {
    "collapsed": false,
    "pycharm": {
     "name": "#%%\n"
    }
   }
  },
  {
   "cell_type": "code",
   "execution_count": 160,
   "outputs": [
    {
     "name": "stdout",
     "output_type": "stream",
     "text": [
      "0.8002244668911336\n",
      "output successful\n"
     ]
    }
   ],
   "source": [
    "# logistic regression\n",
    "from sklearn.linear_model import LogisticRegression\n",
    "from sklearn import linear_model\n",
    "from sklearn.metrics import confusion_matrix\n",
    "\n",
    "Y = train['Survived']\n",
    "features = ['Pclass', 'Sex', 'SibSp', 'Parch']\n",
    "\n",
    "X_train = pd.get_dummies(train[features])\n",
    "X_test = pd.get_dummies(test[features])\n",
    "\n",
    "logisticRegressionModel = LogisticRegression()\n",
    "logisticRegressionModel.fit(X_train, Y)\n",
    "print(logisticRegressionModel.score(X_train, Y))\n",
    "\n",
    "predictions = logisticRegressionModel.predict(X_test)\n",
    "\n",
    "output = pd.DataFrame({'PassengerId': test.PassengerId, 'Survived': predictions})\n",
    "output.to_csv('submission_LogisticRegression.csv', index=False)\n",
    "print('output successful')"
   ],
   "metadata": {
    "collapsed": false,
    "pycharm": {
     "name": "#%%\n"
    }
   }
  },
  {
   "cell_type": "code",
   "execution_count": null,
   "outputs": [],
   "source": [
    "# decision tree regression\n",
    "from sklearn.tree import DecisionTreeRegressor\n",
    "\n",
    "Y = train['Survived']\n",
    "features = ['Pclass', 'Sex', 'SibSp', 'Parch']\n",
    "\n",
    "X_train = pd.get_dummies(train[features])\n",
    "X_test = pd.get_dummies(test[features])\n",
    "\n",
    "decisionTreeRegressorModel = DecisionTreeRegressor(random_state=1)\n",
    "decisionTreeRegressorModel.fit(X_train, Y);\n",
    "\n",
    "print(decisionTreeRegressorModel.score(X_train, Y))\n",
    "\n",
    "predictions = np.array(decisionTreeRegressorModel.predict(X_test))\n",
    "predictions[predictions < 0.5] = 0\n",
    "predictions[predictions >= 0.5] = 1\n",
    "\n",
    "output = pd.DataFrame({'PassengerId': test.PassengerId, 'Survived': predictions})\n",
    "output.to_csv('submission_DecisionTreeRegression.csv', index=False)\n",
    "print('output successful')"
   ],
   "metadata": {
    "collapsed": false,
    "pycharm": {
     "name": "#%%\n"
    }
   }
  },
  {
   "cell_type": "code",
   "execution_count": null,
   "outputs": [],
   "source": [
    "# svm\n",
    "import numpy as np\n",
    "from sklearn import svm\n",
    "from sklearn.model_selection import cross_val_score\n",
    "\n",
    "\n",
    "Y = train['Survived']\n",
    "features = ['Pclass', 'Sex', 'SibSp', 'Parch']\n",
    "\n",
    "X_train = pd.get_dummies(train[features])\n",
    "X_test = pd.get_dummies(test[features])\n",
    "\n",
    "svmModel = svm.SVC(kernel='linear', C=1, random_state=0)\n",
    "svmModel.fit(X_train, Y);\n",
    "\n",
    "print(svmModel.score(X_train, Y))\n",
    "predictions = svmModel.predict(X_test);\n",
    "\n",
    "scores = cross_val_score(svmModel, X_train, Y, cv=5, scoring=\"f1_weighted\")\n",
    "print(f\"max score: {max(scores)}\")\n",
    "print(f\"min score: {min(scores)}\")\n",
    "print(f\"mean score: {scores.mean()}\")\n",
    "print(f\"std score: {scores.std()}\")\n",
    "\n",
    "\n",
    "def custom_cv_2folds(X):\n",
    "    n = X.shape[0]\n",
    "    i = 1\n",
    "    while i <= 2:\n",
    "        idx = np.arange(n * (i - 1) / 2, n * i / 2, dtype=int)\n",
    "        yield idx, idx\n",
    "        i += 1\n",
    "\n",
    "custom_cv = custom_cv_2folds(X_train)\n",
    "custom_score = cross_val_score(svmModel, X_train, Y, cv=custom_cv)\n",
    "\n",
    "output = pd.DataFrame({'PassengerId': test.PassengerId, 'Survived': predictions})\n",
    "output.to_csv('submission_SVM.csv', index=False)\n",
    "print('output successful')"
   ],
   "metadata": {
    "collapsed": false,
    "pycharm": {
     "name": "#%%\n"
    }
   }
  },
  {
   "cell_type": "code",
   "execution_count": 90,
   "outputs": [
    {
     "name": "stdout",
     "output_type": "stream",
     "text": [
      "Logistic Regression Accuracy Score: 0.9904306220095693\n",
      "Random Forests Accuracy Score: 0.9880382775119617\n",
      "SVM Accuracy Score: 1.0\n",
      "Decision Tree Regression Accuracy Score: 0.9449760765550239\n",
      "\n"
     ]
    },
    {
     "data": {
      "text/plain": "<Figure size 360x360 with 1 Axes>",
      "image/png": "[encoded data removed]"
     },
     "metadata": {},
     "output_type": "display_data"
    },
    {
     "data": {
      "text/plain": "<Figure size 360x360 with 1 Axes>",
      "image/png": "[encoded data removed]"
     },
     "metadata": {},
     "output_type": "display_data"
    },
    {
     "data": {
      "text/plain": "<Figure size 360x360 with 1 Axes>",
      "image/png": "[encoded data removed]"
     },
     "metadata": {},
     "output_type": "display_data"
    },
    {
     "data": {
      "text/plain": "<Figure size 360x360 with 1 Axes>",
      "image/png": "[encoded data removed]"
     },
     "metadata": {},
     "output_type": "display_data"
    }
   ],
   "source": [
    "# confusion matrix\n",
    "import pandas as pd\n",
    "import seaborn\n",
    "import matplotlib.pyplot as plt\n",
    "from sklearn.metrics import accuracy_score\n",
    "from sklearn.metrics import confusion_matrix\n",
    "from sklearn.metrics import f1_score\n",
    "from sklearn.metrics import accuracy_score\n",
    "\n",
    "\n",
    "logisticRegressionSubmission = pd.read_csv('submission_LogisticRegression.csv')\n",
    "randomForestsSubmission = pd.read_csv('submission_RandomForests.csv')\n",
    "SVMSubmission = pd.read_csv('submission_SVM.csv')\n",
    "decisionTreeRegressionSubmission = pd.read_csv('submission_DecisionTreeRegression.csv')\n",
    "\n",
    "print(f\"Logistic Regression Accuracy Score: {accuracy_score(logisticRegressionSubmission['Survived'], gender_submission['Survived'])}\")\n",
    "print(f\"Random Forests Accuracy Score: {accuracy_score(randomForestsSubmission['Survived'], gender_submission['Survived'])}\")\n",
    "print(f\"SVM Accuracy Score: {accuracy_score(SVMSubmission['Survived'], gender_submission['Survived'])}\")\n",
    "print(f\"Decision Tree Regression Accuracy Score: {accuracy_score(decisionTreeRegressionSubmission['Survived'], gender_submission['Survived'])}\\n\")\n",
    "\n",
    "\n",
    "Y = train['Survived']\n",
    "features = ['Pclass', 'Sex', 'SibSp', 'Parch']\n",
    "\n",
    "X_train = pd.get_dummies(train[features])\n",
    "X_test = pd.get_dummies(test[features])\n",
    "\n",
    "\n",
    "# create heatmaps for all submissions\n",
    "# [TN, FP]\n",
    "# [FN, TP]\n",
    "\n",
    "for submission in [logisticRegressionSubmission, randomForestsSubmission, SVMSubmission, decisionTreeRegressionSubmission]:\n",
    "    cm = confusion_matrix(submission['Survived'], gender_submission['Survived']);  # get confusion matrix for y_true vs y_pred\n",
    "    cm_df = pd.DataFrame(cm);\n",
    "\n",
    "    plt.figure(figsize=(5, 5));\n",
    "    seaborn.heatmap(cm_df, annot=True, annot_kws={\"size\": 25}, fmt='d', xticklabels=False, yticklabels=False, cmap=\"viridis\", cbar=False);\n",
    "    plt.show();"
   ],
   "metadata": {
    "collapsed": false,
    "pycharm": {
     "name": "#%%\n"
    }
   }
  },
  {
   "cell_type": "code",
   "execution_count": 12,
   "outputs": [
    {
     "data": {
      "text/plain": "((623, 22), (268, 22), (623,), (268,))"
     },
     "execution_count": 12,
     "metadata": {},
     "output_type": "execute_result"
    }
   ],
   "source": [
    "# logistic regression with feature engineering\n",
    "import pandas as pd\n",
    "import seaborn\n",
    "from sklearn.linear_model import LogisticRegression\n",
    "from sklearn.model_selection import train_test_split #for split the data\n",
    "from sklearn.metrics import accuracy_score  #for accuracy_score\n",
    "from sklearn.model_selection import KFold #for K-fold cross validation\n",
    "from sklearn.model_selection import cross_val_score #score evaluation\n",
    "from sklearn.model_selection import cross_val_predict #prediction\n",
    "from sklearn.metrics import confusion_matrix #for confusion matrix\n",
    "\n",
    "\n",
    "traindf = pd.get_dummies(train, prefix=[\"Sex\",\"Title\",\"Age_type\",\"Em_type\",\"Fare_type\"], columns=[\"Sex\",\"Title\",\"Age_bin\",\"Embarked\",\"Fare_bin\"])\n",
    "testdf = pd.get_dummies(test, prefix=[\"Sex\",\"Title\",\"Age_type\",\"Em_type\",\"Fare_type\"], columns=[\"Sex\",\"Title\",\"Age_bin\",\"Embarked\",\"Fare_bin\"])\n",
    "\n",
    "\n",
    "all_features = traindf.drop(\"Survived\",axis=1)\n",
    "Targeted_feature = traindf[\"Survived\"]\n",
    "X_train,X_test,y_train,y_test = train_test_split(all_features,Targeted_feature,test_size=0.3,random_state=42)\n",
    "X_train.shape,X_test.shape,y_train.shape,y_test.shape"
   ],
   "metadata": {
    "collapsed": false,
    "pycharm": {
     "name": "#%%\n"
    }
   }
  },
  {
   "cell_type": "code",
   "execution_count": 230,
   "outputs": [
    {
     "data": {
      "text/plain": "((891, 22), (891,), (418, 22))"
     },
     "execution_count": 230,
     "metadata": {},
     "output_type": "execute_result"
    }
   ],
   "source": [
    "train_X = traindf.drop(\"Survived\", axis=1)\n",
    "train_Y=traindf[\"Survived\"]\n",
    "test_X  = testdf.drop(\"PassengerId\", axis=1).copy()\n",
    "train_X.shape, train_Y.shape, test_X.shape"
   ],
   "metadata": {
    "collapsed": false,
    "pycharm": {
     "name": "#%%\n"
    }
   }
  },
  {
   "cell_type": "code",
   "execution_count": 238,
   "outputs": [
    {
     "name": "stdout",
     "output_type": "stream",
     "text": [
      "0 = 0.7845117845117845\n",
      "1 = 0.7867564534231201\n",
      "2 = 0.8114478114478114\n",
      "3 = 0.835016835016835\n",
      "4 = 0.8361391694725028\n",
      "5 = 0.8552188552188552\n",
      "6 = 0.8585858585858586\n",
      "7 = 0.8664421997755332\n",
      "8 = 0.8832772166105499\n",
      "9 = 0.8888888888888888\n",
      "10 = 0.8866442199775533\n",
      "11 = 0.8900112233445566\n",
      "12 = 0.8900112233445566\n",
      "13 = 0.8900112233445566\n",
      "14 = 0.8911335578002245\n",
      "15 = 0.8888888888888888\n",
      "16 = 0.8888888888888888\n",
      "17 = 0.8911335578002245\n",
      "18 = 0.8911335578002245\n",
      "19 = 0.8911335578002245\n"
     ]
    }
   ],
   "source": [
    "# random forests with feature engineering\n",
    "from sklearn.ensemble import RandomForestClassifier\n",
    "from sklearn.model_selection import GridSearchCV\n",
    "\n",
    "# random_forest = RandomForestClassifier(bootstrap=True, class_weight=None, criterion='entropy',\n",
    "#                                             max_depth=3, max_features='auto', max_leaf_nodes=None,\n",
    "#                                             min_impurity_decrease=0.0,\n",
    "#                                             min_samples_leaf=1, min_samples_split=2,\n",
    "#                                             min_weight_fraction_leaf=0.0, n_estimators=20, n_jobs=1,\n",
    "#                                             oob_score=False, random_state=None, verbose=0,\n",
    "#                                             warm_start=False)\n",
    "# random_forest.fit(train_X, train_Y)\n",
    "# # predictions = random_forest.predict(test_X)\n",
    "# random_forest.score(train_X,train_Y)\n",
    "#\n",
    "# param_grid = { \"criterion\" : [\"gini\", \"entropy\"], \"min_samples_leaf\" : [1, 5, 10], \"min_samples_split\" : [2, 4, 10, 12], \"n_estimators\": [50, 100, 400, 700]}\n",
    "#\n",
    "# gs = GridSearchCV(estimator=random_forest, param_grid=param_grid, scoring='accuracy', cv=3, n_jobs=-1)\n",
    "#\n",
    "# gs = gs.fit(train_X, train_Y)\n",
    "#\n",
    "# predictions = gs.predict(test_X)\n",
    "#\n",
    "# print(gs.score(train_X, train_Y))\n",
    "#\n",
    "#\n",
    "# output = pd.DataFrame({'PassengerId': test.PassengerId, 'Survived': predictions})\n",
    "# output.to_csv('temp.csv', index=False)\n",
    "# print('output successful')\n",
    "\n",
    "\n",
    "predictions = []\n",
    "for k in range(0, 20):\n",
    "    random_forest = RandomForestClassifier(bootstrap=True, class_weight=None, criterion='entropy',\n",
    "                                            max_depth=(k+1), max_features='sqrt', max_leaf_nodes=None,\n",
    "                                            min_impurity_decrease=0.0,\n",
    "                                            min_samples_leaf=1, min_samples_split=2,\n",
    "                                            min_weight_fraction_leaf=0.0, n_estimators=20, n_jobs=1,\n",
    "                                            oob_score=False, random_state=None, verbose=0,\n",
    "                                            warm_start=False)\n",
    "    random_forest.fit(train_X, train_Y)\n",
    "    predictions.append(random_forest.predict(test_X))\n",
    "    random_forest.score(train_X,train_Y)\n",
    "\n",
    "    print(f\"{k} = {random_forest.score(train_X, train_Y)}\")"
   ],
   "metadata": {
    "collapsed": false,
    "pycharm": {
     "name": "#%%\n"
    }
   }
  },
  {
   "cell_type": "code",
   "execution_count": 240,
   "outputs": [
    {
     "name": "stdout",
     "output_type": "stream",
     "text": [
      "output successful\n"
     ]
    }
   ],
   "source": [
    "output = pd.DataFrame({'PassengerId': test.PassengerId, 'Survived': predictions[3]})\n",
    "output.to_csv('temp.csv', index=False)\n",
    "print('output successful')"
   ],
   "metadata": {
    "collapsed": false,
    "pycharm": {
     "name": "#%%\n"
    }
   }
  },
  {
   "cell_type": "code",
   "execution_count": null,
   "outputs": [],
   "source": [],
   "metadata": {
    "collapsed": false,
    "pycharm": {
     "name": "#%%\n"
    }
   }
  }
 ],
 "metadata": {
  "kernelspec": {
   "display_name": "Python 3",
   "language": "python",
   "name": "python3"
  },
  "language_info": {
   "codemirror_mode": {
    "name": "ipython",
    "version": 2
   },
   "file_extension": ".py",
   "mimetype": "text/x-python",
   "name": "python",
   "nbconvert_exporter": "python",
   "pygments_lexer": "ipython2",
   "version": "2.7.6"
  }
 },
 "nbformat": 4,
 "nbformat_minor": 0
}
