{
 "cells": [
  {
   "cell_type": "code",
   "execution_count": 1,
   "outputs": [],
   "source": [
    "import numpy as np\n",
    "import pandas as pd\n",
    "import os\n",
    "\n",
    "# initialize datasets\n",
    "gender_submission = None\n",
    "test = None\n",
    "train = None\n",
    "\n",
    "# find file paths for and read in datasets\n",
    "for subdir, dirs, files in os.walk(\"titanic\\data\"):\n",
    "    for file in files:\n",
    "        # print(os.path.join(subdir, file))\n",
    "\n",
    "        if 'gender_submission' in file:\n",
    "            gender_submission = pd.read_csv(os.path.join(subdir, file))\n",
    "\n",
    "        if 'test' in file:\n",
    "            test = pd.read_csv(os.path.join(subdir, file))\n",
    "\n",
    "        if 'train' in file:\n",
    "            train = pd.read_csv(os.path.join(subdir, file))\n",
    "\n",
    "train = train.fillna(0)\n",
    "test = test.fillna(0)"
   ],
   "metadata": {
    "collapsed": false,
    "pycharm": {
     "name": "#%%\n"
    }
   }
  },
  {
   "cell_type": "code",
   "execution_count": 2,
   "outputs": [
    {
     "name": "stdout",
     "output_type": "stream",
     "text": [
      "% of women who survived: 0.7420382165605095\n",
      "% of men who survived: 0.18890814558058924\n"
     ]
    }
   ],
   "source": [
    "# find rate (%) of women who survived the Titanic\n",
    "women = train.loc[train.Sex == 'female']['Survived']\n",
    "rate_women = sum(women)/len(women)\n",
    "\n",
    "print(f\"% of women who survived: {rate_women}\")\n",
    "\n",
    "\n",
    "# find rate (%) of men who survived the Titanic\n",
    "men = train.loc[train.Sex == 'male']['Survived']\n",
    "rate_men = sum(men)/len(men)\n",
    "\n",
    "print(f\"% of men who survived: {rate_men}\")"
   ],
   "metadata": {
    "collapsed": false,
    "pycharm": {
     "name": "#%%\n"
    }
   }
  },
  {
   "cell_type": "code",
   "execution_count": 4,
   "outputs": [
    {
     "name": "stdout",
     "output_type": "stream",
     "text": [
      "0.8159371492704826\n",
      "output successful\n"
     ]
    }
   ],
   "source": [
    "# random forests\n",
    "from sklearn.ensemble import RandomForestClassifier\n",
    "\n",
    "Y = train['Survived']\n",
    "\n",
    "features = ['Pclass', 'Sex', 'SibSp', 'Parch']\n",
    "X = pd.get_dummies(train[features])\n",
    "X_test = pd.get_dummies(test[features])\n",
    "\n",
    "model = RandomForestClassifier(n_estimators=100, max_depth=5, random_state=1)\n",
    "model.fit(X, Y)\n",
    "print(model.score(X, Y))\n",
    "\n",
    "predictions = model.predict(X_test)\n",
    "\n",
    "output = pd.DataFrame({'PassengerId': test.PassengerId, 'Survived': predictions})\n",
    "output.to_csv('submission_RandomForests.csv', index=False)\n",
    "print('output successful')"
   ],
   "metadata": {
    "collapsed": false,
    "pycharm": {
     "name": "#%%\n"
    }
   }
  },
  {
   "cell_type": "code",
   "execution_count": 45,
   "outputs": [
    {
     "name": "stdout",
     "output_type": "stream",
     "text": [
      "0.8002244668911336\n",
      "output successful\n"
     ]
    }
   ],
   "source": [
    "# logistic regression\n",
    "from sklearn.linear_model import LogisticRegression\n",
    "logisticRegressionModel = LogisticRegression()\n",
    "\n",
    "Y = train['Survived']\n",
    "\n",
    "features = ['Pclass', 'Sex', 'SibSp', 'Parch']\n",
    "X_train = pd.get_dummies(train[features])\n",
    "X_test = pd.get_dummies(test[features])\n",
    "\n",
    "logisticRegressionModel.fit(X_train, Y)\n",
    "print(logisticRegressionModel.score(X_train, Y))\n",
    "\n",
    "predictions = logisticRegressionModel.predict(X_test)\n",
    "\n",
    "output = pd.DataFrame({'PassengerId': test.PassengerId, 'Survived': predictions})\n",
    "output.to_csv('submission_LogisticRegression.csv', index=False)\n",
    "print('output successful')"
   ],
   "metadata": {
    "collapsed": false,
    "pycharm": {
     "name": "#%%\n"
    }
   }
  },
  {
   "cell_type": "code",
   "execution_count": 55,
   "outputs": [
    {
     "name": "stdout",
     "output_type": "stream",
     "text": [
      "0.47112154431804354\n",
      "output successful\n"
     ]
    }
   ],
   "source": [
    "# decision tree regression\n",
    "from sklearn.tree import DecisionTreeRegressor\n",
    "from sklearn.model_selection import train_test_split\n",
    "\n",
    "Y = train['Survived']\n",
    "features = ['Pclass', 'Sex', 'SibSp', 'Parch']\n",
    "\n",
    "X_train = pd.get_dummies(train[features])\n",
    "X_test = pd.get_dummies(test[features])\n",
    "\n",
    "decisionTreeRegressorModel = DecisionTreeRegressor(random_state=1)\n",
    "decisionTreeRegressorModel.fit(X_train, Y);\n",
    "\n",
    "print(decisionTreeRegressorModel.score(X_train, Y))\n",
    "\n",
    "predictions = np.array(decisionTreeRegressorModel.predict(X_test))\n",
    "predictions[predictions < 0.5] = 0\n",
    "predictions[predictions >= 0.5] = 1\n",
    "\n",
    "output = pd.DataFrame({'PassengerId': test.PassengerId, 'Survived': predictions})\n",
    "output.to_csv('submission_DecisionTreeRegression.csv', index=False)\n",
    "print('output successful')"
   ],
   "metadata": {
    "collapsed": false,
    "pycharm": {
     "name": "#%%\n"
    }
   }
  },
  {
   "cell_type": "code",
   "execution_count": null,
   "outputs": [],
   "source": [],
   "metadata": {
    "collapsed": false,
    "pycharm": {
     "name": "#%%\n"
    }
   }
  }
 ],
 "metadata": {
  "kernelspec": {
   "display_name": "Python 3",
   "language": "python",
   "name": "python3"
  },
  "language_info": {
   "codemirror_mode": {
    "name": "ipython",
    "version": 2
   },
   "file_extension": ".py",
   "mimetype": "text/x-python",
   "name": "python",
   "nbconvert_exporter": "python",
   "pygments_lexer": "ipython2",
   "version": "2.7.6"
  }
 },
 "nbformat": 4,
 "nbformat_minor": 0
}